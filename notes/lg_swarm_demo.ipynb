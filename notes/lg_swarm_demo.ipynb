{
 "cells": [
  {
   "cell_type": "code",
   "execution_count": 1,
   "metadata": {},
   "outputs": [],
   "source": [
    "import sys\n",
    "sys.path.append(\"../\")\n",
    "\n",
    "from langgraph_swarm import Agent, create_swarm_workflow, tool, get_agent_name_from_message\n",
    "from langgraph_swarm.repl import run_demo_loop\n",
    "from langchain_openai import ChatOpenAI"
   ]
  },
  {
   "cell_type": "code",
   "execution_count": 2,
   "metadata": {},
   "outputs": [],
   "source": [
    "@tool\n",
    "def process_refund(item_id: str, reason: str=\"NOT SPECIFIED\"):\n",
    "    \"\"\"\n",
    "    Refund an item. Refund an item. Make sure you have the item_id of the form item_... Ask for user confirmation before processing the refund.\n",
    "    \n",
    "    Args:\n",
    "        item_id: The ID of the item to refund.\n",
    "        reason: The reason for the refund. Defaults to \"NOT SPECIFIED\".\n",
    "    \"\"\"\n",
    "    print(f\"[mock] Refunding item {item_id} because {reason}...\")\n",
    "    return \"Success!\"\n",
    "\n",
    "@tool\n",
    "def apply_discount():\n",
    "    \"\"\"\n",
    "    Apply a discount to the user's cart.\n",
    "    \n",
    "    Args:\n",
    "        None\n",
    "    \"\"\"\n",
    "    print(\"[mock] Applying discount...\")\n",
    "    return \"Applied discount of 11%\"\n",
    "\n",
    "\n",
    "\n",
    "triage_agent = Agent(\n",
    "    name=\"Triage Agent\",\n",
    "    instructions=\"Determine which agent is best suited to handle the user's request, and transfer the conversation to that agent.\",\n",
    "    backlink=False\n",
    ")\n",
    "sales_agent = Agent(\n",
    "    name=\"Sales Agent\",\n",
    "    instructions=\"Be super enthusiastic about selling bees.\",\n",
    "    backlink=True\n",
    ")\n",
    "refunds_agent = Agent(\n",
    "    name=\"Refunds Agent\",\n",
    "    instructions=\"Help the user with a refund. If the reason is that it was too expensive, offer the user a refund code. If they insist, then process the refund.\",\n",
    "    backlink=True\n",
    "    # functions=[process_refund, apply_discount],\n",
    ")\n",
    "\n",
    "\n",
    "triage_agent.handoffs = [sales_agent, refunds_agent]\n",
    "refunds_agent.functions = [process_refund, apply_discount]"
   ]
  },
  {
   "cell_type": "markdown",
   "metadata": {},
   "source": [
    "## create a swarm workflow and run the agents"
   ]
  },
  {
   "cell_type": "code",
   "execution_count": null,
   "metadata": {},
   "outputs": [],
   "source": [
    "from langchain_core.messages import HumanMessage\n",
    "\n",
    "llm = ChatOpenAI()\n",
    "def print_messages(messages):\n",
    "    for message in messages:\n",
    "        agent_name = get_agent_name_from_message(messages[0]) or \"User\"\n",
    "        print(f\"{agent_name}[{message.type}]: {message}\")\n",
    "\n",
    "wf = create_swarm_workflow(\n",
    "        llm=llm,\n",
    "        starting_agent=triage_agent,\n",
    "        print_messages=print_messages,\n",
    "        with_user_agent=False,\n",
    "        debug=True,\n",
    ")\n",
    "\n",
    "from IPython.display import Image, display\n",
    "image = wf.get_graph(xray=True).draw_mermaid_png()\n",
    "display(Image(image))"
   ]
  },
  {
   "cell_type": "code",
   "execution_count": null,
   "metadata": {},
   "outputs": [],
   "source": [
    "\n",
    "user_inputs = [\n",
    "    \"I need a refund\",\n",
    "    \"Fine, it's done. and I want to talk to sales\",\n",
    "    \"I want to talk to sales\",    \n",
    "    \"/end\",\n",
    "]\n",
    "messages = [HumanMessage(content=user_inputs[0], name=\"User \")]\n",
    "wf.invoke(input={\"messages\": messages, \"agent_name\": triage_agent.name, \"handoff\": True})"
   ]
  },
  {
   "cell_type": "markdown",
   "metadata": {},
   "source": [
    "## use Swarm client and streaming"
   ]
  },
  {
   "cell_type": "code",
   "execution_count": null,
   "metadata": {},
   "outputs": [],
   "source": [
    "from langgraph_swarm import Swarm\n",
    "from langgraph_swarm.util import default_print_messages\n",
    "from langchain_core.messages import HumanMessage\n",
    "cliet = Swarm(agent=triage_agent, debug=True, print_messages=default_print_messages)\n",
    "resp = cliet.run(\n",
    "    messages=[HumanMessage(content=\"I need a refund\")],\n",
    "    stream=True,\n",
    ")\n",
    "\n",
    "for _chunk in resp:\n",
    "    print(\"Console:\", _chunk)"
   ]
  },
  {
   "cell_type": "markdown",
   "metadata": {},
   "source": [
    "# use run_demo_loop function instead"
   ]
  },
  {
   "cell_type": "code",
   "execution_count": null,
   "metadata": {},
   "outputs": [],
   "source": [
    "user_inputs = [\n",
    "    \"I need a refund\",\n",
    "    \"I need a refund for item_12345\",\n",
    "    \"Fine, it's done. and I want to talk to sales\",\n",
    "    \"I want to talk to sales\",    \n",
    "    \"/end\",\n",
    "]\n",
    "\n",
    "run_demo_loop(starting_agent=triage_agent, debug=True, user_inputs=user_inputs, stream=True)"
   ]
  }
 ],
 "metadata": {
  "kernelspec": {
   "display_name": "lcstack",
   "language": "python",
   "name": "python3"
  },
  "language_info": {
   "codemirror_mode": {
    "name": "ipython",
    "version": 3
   },
   "file_extension": ".py",
   "mimetype": "text/x-python",
   "name": "python",
   "nbconvert_exporter": "python",
   "pygments_lexer": "ipython3",
   "version": "3.12.5"
  }
 },
 "nbformat": 4,
 "nbformat_minor": 2
}
